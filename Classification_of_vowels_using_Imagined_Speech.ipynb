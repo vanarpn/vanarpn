{
  "nbformat": 4,
  "nbformat_minor": 0,
  "metadata": {
    "colab": {
      "provenance": []
    },
    "kernelspec": {
      "name": "python3",
      "display_name": "Python 3"
    },
    "language_info": {
      "name": "python"
    }
  },
  "cells": [
    {
      "cell_type": "code",
      "source": [
        "from keras.models import Sequential\n",
        "from keras.layers import Conv2D, MaxPooling1D, Flatten, Dense, Dropout, BatchNormalization, AveragePooling2D,Dropout,Softmax, ReLU\n",
        "from keras.utils import to_categorical\n",
        "from sklearn.model_selection import train_test_split\n",
        "import numpy as np\n",
        "\n",
        "model = Sequential()\n",
        "model.add(Conv2D(40, (10,1), activation='relu', input_shape=(512,6, 1), padding = \"same\"))\n",
        "model.add(Conv2D(40, (1,6), activation='relu', padding = \"valid\"))\n",
        "model.add(BatchNormalization())\n",
        "model.add(ReLU())\n",
        "model.add(Conv2D(100, (5,1), activation='relu', padding = \"valid\"))\n",
        "model.add(BatchNormalization())\n",
        "model.add(ReLU())\n",
        "model.add(AveragePooling2D(pool_size=(10, 1)))\n",
        "model.add(Dropout(0.2))\n",
        "\n",
        "model.add(Conv2D(200, (3,1), activation='relu', padding = \"valid\"))\n",
        "model.add(BatchNormalization())\n",
        "model.add(ReLU())\n",
        "model.add(AveragePooling2D(pool_size=(10, 1)))\n",
        "model.add(Dropout(0.2))\n",
        "model.add(Flatten())\n",
        "model.add(Dense(5))\n",
        "model.add(Softmax())\n",
        "\n",
        "model.compile(optimizer='adam', loss='categorical_crossentropy', metrics=['accuracy'])\n"
      ],
      "metadata": {
        "id": "Op5RTYXqyJQ3"
      },
      "execution_count": null,
      "outputs": []
    },
    {
      "cell_type": "markdown",
      "source": [
        "# New Section"
      ],
      "metadata": {
        "id": "m-5HYVZavZ3Z"
      }
    },
    {
      "cell_type": "code",
      "source": [
        "model.summary()"
      ],
      "metadata": {
        "colab": {
          "base_uri": "https://localhost:8080/"
        },
        "id": "aaB7c_edyNOy",
        "outputId": "b61655a4-3ab1-4713-e562-3b8c96f5a3e4"
      },
      "execution_count": null,
      "outputs": [
        {
          "output_type": "stream",
          "name": "stdout",
          "text": [
            "Model: \"sequential_1\"\n",
            "_________________________________________________________________\n",
            " Layer (type)                Output Shape              Param #   \n",
            "=================================================================\n",
            " conv2d_4 (Conv2D)           (None, 512, 6, 40)        440       \n",
            "                                                                 \n",
            " conv2d_5 (Conv2D)           (None, 512, 1, 40)        9640      \n",
            "                                                                 \n",
            " batch_normalization_3 (Bat  (None, 512, 1, 40)        160       \n",
            " chNormalization)                                                \n",
            "                                                                 \n",
            " re_lu_3 (ReLU)              (None, 512, 1, 40)        0         \n",
            "                                                                 \n",
            " conv2d_6 (Conv2D)           (None, 508, 1, 100)       20100     \n",
            "                                                                 \n",
            " batch_normalization_4 (Bat  (None, 508, 1, 100)       400       \n",
            " chNormalization)                                                \n",
            "                                                                 \n",
            " re_lu_4 (ReLU)              (None, 508, 1, 100)       0         \n",
            "                                                                 \n",
            " average_pooling2d_2 (Avera  (None, 50, 1, 100)        0         \n",
            " gePooling2D)                                                    \n",
            "                                                                 \n",
            " dropout_2 (Dropout)         (None, 50, 1, 100)        0         \n",
            "                                                                 \n",
            " conv2d_7 (Conv2D)           (None, 48, 1, 200)        60200     \n",
            "                                                                 \n",
            " batch_normalization_5 (Bat  (None, 48, 1, 200)        800       \n",
            " chNormalization)                                                \n",
            "                                                                 \n",
            " re_lu_5 (ReLU)              (None, 48, 1, 200)        0         \n",
            "                                                                 \n",
            " average_pooling2d_3 (Avera  (None, 4, 1, 200)         0         \n",
            " gePooling2D)                                                    \n",
            "                                                                 \n",
            " dropout_3 (Dropout)         (None, 4, 1, 200)         0         \n",
            "                                                                 \n",
            " flatten_1 (Flatten)         (None, 800)               0         \n",
            "                                                                 \n",
            " dense_1 (Dense)             (None, 5)                 4005      \n",
            "                                                                 \n",
            " softmax_1 (Softmax)         (None, 5)                 0         \n",
            "                                                                 \n",
            "=================================================================\n",
            "Total params: 95745 (374.00 KB)\n",
            "Trainable params: 95065 (371.35 KB)\n",
            "Non-trainable params: 680 (2.66 KB)\n",
            "_________________________________________________________________\n"
          ]
        }
      ]
    },
    {
      "cell_type": "code",
      "source": [
        "import numpy as np\n",
        "\n",
        "# give the dimensions to the data\n",
        "num_samples = 400\n",
        "input_shape = (512, 6, 1)\n",
        "num_classes = 5  # our model output layer has 5 units\n",
        "\n",
        "# random dummy data\n",
        "data = np.random.rand(num_samples, *input_shape)\n",
        "labels = np.random.randint(0, num_classes, size=num_samples)\n",
        "\n",
        "#labels into one-hot encoding\n",
        "from tensorflow.keras.utils import to_categorical\n",
        "labels_one_hot = to_categorical(labels, num_classes=num_classes)\n",
        "\n",
        "# making sure that data is of the correct tyoe\n",
        "data = data.astype('float32')\n",
        "\n",
        "# Example usage:\n",
        "print(\"Data shape:\", data.shape)  # (400, 512, 6, 1)\n",
        "print(\"Labels shape:\", labels_one_hot.shape)  # (400, 5)\n"
      ],
      "metadata": {
        "colab": {
          "base_uri": "https://localhost:8080/"
        },
        "id": "N0E0mCx5yh9o",
        "outputId": "722c209d-dddd-4f56-e1e1-ee54cd55b9ec"
      },
      "execution_count": null,
      "outputs": [
        {
          "output_type": "stream",
          "name": "stdout",
          "text": [
            "Data shape: (400, 512, 6, 1)\n",
            "Labels shape: (400, 5)\n"
          ]
        }
      ]
    },
    {
      "cell_type": "code",
      "source": [
        "model.fit(data, labels_one_hot, epochs=50, batch_size=32, validation_split=0.2)\n"
      ],
      "metadata": {
        "colab": {
          "base_uri": "https://localhost:8080/"
        },
        "id": "h4MUuqlWvjR4",
        "outputId": "a0781a2e-4532-4faf-d178-e5f847846b85"
      },
      "execution_count": null,
      "outputs": [
        {
          "output_type": "stream",
          "name": "stdout",
          "text": [
            "Epoch 1/50\n",
            "10/10 [==============================] - 5s 261ms/step - loss: 1.7207 - accuracy: 0.1969 - val_loss: 1.6104 - val_accuracy: 0.1875\n",
            "Epoch 2/50\n",
            "10/10 [==============================] - 2s 184ms/step - loss: 1.5580 - accuracy: 0.2562 - val_loss: 1.6096 - val_accuracy: 0.1875\n",
            "Epoch 3/50\n",
            "10/10 [==============================] - 2s 189ms/step - loss: 1.4183 - accuracy: 0.4375 - val_loss: 1.6094 - val_accuracy: 0.1875\n",
            "Epoch 4/50\n",
            "10/10 [==============================] - 2s 171ms/step - loss: 1.3376 - accuracy: 0.4844 - val_loss: 1.6094 - val_accuracy: 0.1875\n",
            "Epoch 5/50\n",
            "10/10 [==============================] - 2s 179ms/step - loss: 1.1730 - accuracy: 0.6000 - val_loss: 1.6095 - val_accuracy: 0.1875\n",
            "Epoch 6/50\n",
            "10/10 [==============================] - 2s 196ms/step - loss: 1.0718 - accuracy: 0.6938 - val_loss: 1.6095 - val_accuracy: 0.1875\n",
            "Epoch 7/50\n",
            "10/10 [==============================] - 3s 287ms/step - loss: 0.9805 - accuracy: 0.7188 - val_loss: 1.6096 - val_accuracy: 0.1875\n",
            "Epoch 8/50\n",
            "10/10 [==============================] - 2s 170ms/step - loss: 0.8823 - accuracy: 0.8062 - val_loss: 1.6096 - val_accuracy: 0.1875\n",
            "Epoch 9/50\n",
            "10/10 [==============================] - 2s 170ms/step - loss: 0.7497 - accuracy: 0.8813 - val_loss: 1.6096 - val_accuracy: 0.1875\n",
            "Epoch 10/50\n",
            "10/10 [==============================] - 2s 166ms/step - loss: 0.6276 - accuracy: 0.9312 - val_loss: 1.6096 - val_accuracy: 0.1875\n",
            "Epoch 11/50\n",
            "10/10 [==============================] - 2s 174ms/step - loss: 0.5249 - accuracy: 0.9594 - val_loss: 1.6097 - val_accuracy: 0.1875\n",
            "Epoch 12/50\n",
            "10/10 [==============================] - 2s 181ms/step - loss: 0.4544 - accuracy: 0.9531 - val_loss: 1.6096 - val_accuracy: 0.1875\n",
            "Epoch 13/50\n",
            "10/10 [==============================] - 2s 203ms/step - loss: 0.3894 - accuracy: 0.9844 - val_loss: 1.6096 - val_accuracy: 0.1875\n",
            "Epoch 14/50\n",
            "10/10 [==============================] - 3s 270ms/step - loss: 0.2897 - accuracy: 0.9969 - val_loss: 1.6097 - val_accuracy: 0.1875\n",
            "Epoch 15/50\n",
            "10/10 [==============================] - 2s 176ms/step - loss: 0.2223 - accuracy: 1.0000 - val_loss: 1.6097 - val_accuracy: 0.1875\n",
            "Epoch 16/50\n",
            "10/10 [==============================] - 2s 171ms/step - loss: 0.1936 - accuracy: 0.9937 - val_loss: 1.6097 - val_accuracy: 0.1875\n",
            "Epoch 17/50\n",
            "10/10 [==============================] - 2s 173ms/step - loss: 0.1510 - accuracy: 1.0000 - val_loss: 1.6098 - val_accuracy: 0.1875\n",
            "Epoch 18/50\n",
            "10/10 [==============================] - 2s 174ms/step - loss: 0.1363 - accuracy: 1.0000 - val_loss: 1.6098 - val_accuracy: 0.1875\n",
            "Epoch 19/50\n",
            "10/10 [==============================] - 3s 320ms/step - loss: 0.1146 - accuracy: 1.0000 - val_loss: 1.6098 - val_accuracy: 0.1875\n",
            "Epoch 20/50\n",
            "10/10 [==============================] - 3s 317ms/step - loss: 0.0871 - accuracy: 1.0000 - val_loss: 1.6098 - val_accuracy: 0.1875\n",
            "Epoch 21/50\n",
            "10/10 [==============================] - 2s 188ms/step - loss: 0.0678 - accuracy: 1.0000 - val_loss: 1.6098 - val_accuracy: 0.1875\n",
            "Epoch 22/50\n",
            "10/10 [==============================] - 2s 169ms/step - loss: 0.0644 - accuracy: 1.0000 - val_loss: 1.6098 - val_accuracy: 0.1875\n",
            "Epoch 23/50\n",
            "10/10 [==============================] - 2s 171ms/step - loss: 0.0555 - accuracy: 1.0000 - val_loss: 1.6098 - val_accuracy: 0.1875\n",
            "Epoch 24/50\n",
            "10/10 [==============================] - 2s 173ms/step - loss: 0.0478 - accuracy: 1.0000 - val_loss: 1.6098 - val_accuracy: 0.1875\n",
            "Epoch 25/50\n",
            "10/10 [==============================] - 2s 203ms/step - loss: 0.0426 - accuracy: 1.0000 - val_loss: 1.6098 - val_accuracy: 0.1875\n",
            "Epoch 26/50\n",
            "10/10 [==============================] - 2s 206ms/step - loss: 0.0382 - accuracy: 1.0000 - val_loss: 1.6098 - val_accuracy: 0.1875\n",
            "Epoch 27/50\n",
            "10/10 [==============================] - 3s 271ms/step - loss: 0.0320 - accuracy: 1.0000 - val_loss: 1.6098 - val_accuracy: 0.1875\n",
            "Epoch 28/50\n",
            "10/10 [==============================] - 2s 168ms/step - loss: 0.0302 - accuracy: 1.0000 - val_loss: 1.6098 - val_accuracy: 0.1875\n",
            "Epoch 29/50\n",
            "10/10 [==============================] - 2s 175ms/step - loss: 0.0259 - accuracy: 1.0000 - val_loss: 1.6098 - val_accuracy: 0.1875\n",
            "Epoch 30/50\n",
            "10/10 [==============================] - 2s 168ms/step - loss: 0.0228 - accuracy: 1.0000 - val_loss: 1.6097 - val_accuracy: 0.1875\n",
            "Epoch 31/50\n",
            "10/10 [==============================] - 2s 202ms/step - loss: 0.0216 - accuracy: 1.0000 - val_loss: 1.6097 - val_accuracy: 0.1875\n",
            "Epoch 32/50\n",
            "10/10 [==============================] - 2s 202ms/step - loss: 0.0221 - accuracy: 1.0000 - val_loss: 1.6097 - val_accuracy: 0.1875\n",
            "Epoch 33/50\n",
            "10/10 [==============================] - 2s 256ms/step - loss: 0.0185 - accuracy: 1.0000 - val_loss: 1.6097 - val_accuracy: 0.1875\n",
            "Epoch 34/50\n",
            "10/10 [==============================] - 2s 216ms/step - loss: 0.0193 - accuracy: 1.0000 - val_loss: 1.6097 - val_accuracy: 0.1375\n",
            "Epoch 35/50\n",
            "10/10 [==============================] - 2s 170ms/step - loss: 0.0164 - accuracy: 1.0000 - val_loss: 1.6097 - val_accuracy: 0.1250\n",
            "Epoch 36/50\n",
            "10/10 [==============================] - 2s 171ms/step - loss: 0.0150 - accuracy: 1.0000 - val_loss: 1.6097 - val_accuracy: 0.1125\n",
            "Epoch 37/50\n",
            "10/10 [==============================] - 2s 175ms/step - loss: 0.0140 - accuracy: 1.0000 - val_loss: 1.6098 - val_accuracy: 0.1250\n",
            "Epoch 38/50\n",
            "10/10 [==============================] - 2s 174ms/step - loss: 0.0129 - accuracy: 1.0000 - val_loss: 1.6098 - val_accuracy: 0.1250\n",
            "Epoch 39/50\n",
            "10/10 [==============================] - 2s 170ms/step - loss: 0.0132 - accuracy: 1.0000 - val_loss: 1.6098 - val_accuracy: 0.1500\n",
            "Epoch 40/50\n",
            "10/10 [==============================] - 3s 270ms/step - loss: 0.0113 - accuracy: 1.0000 - val_loss: 1.6099 - val_accuracy: 0.1625\n",
            "Epoch 41/50\n",
            "10/10 [==============================] - 2s 203ms/step - loss: 0.0100 - accuracy: 1.0000 - val_loss: 1.6098 - val_accuracy: 0.2250\n",
            "Epoch 42/50\n",
            "10/10 [==============================] - 2s 174ms/step - loss: 0.0108 - accuracy: 1.0000 - val_loss: 1.6100 - val_accuracy: 0.2125\n",
            "Epoch 43/50\n",
            "10/10 [==============================] - 2s 168ms/step - loss: 0.0106 - accuracy: 1.0000 - val_loss: 1.6104 - val_accuracy: 0.2000\n",
            "Epoch 44/50\n",
            "10/10 [==============================] - 2s 170ms/step - loss: 0.0103 - accuracy: 1.0000 - val_loss: 1.6118 - val_accuracy: 0.2000\n",
            "Epoch 45/50\n",
            "10/10 [==============================] - 2s 170ms/step - loss: 0.0100 - accuracy: 1.0000 - val_loss: 1.6126 - val_accuracy: 0.2000\n",
            "Epoch 46/50\n",
            "10/10 [==============================] - 2s 166ms/step - loss: 0.0088 - accuracy: 1.0000 - val_loss: 1.6139 - val_accuracy: 0.1875\n",
            "Epoch 47/50\n",
            "10/10 [==============================] - 3s 288ms/step - loss: 0.0096 - accuracy: 1.0000 - val_loss: 1.6155 - val_accuracy: 0.1875\n",
            "Epoch 48/50\n",
            "10/10 [==============================] - 2s 188ms/step - loss: 0.0083 - accuracy: 1.0000 - val_loss: 1.6151 - val_accuracy: 0.2000\n",
            "Epoch 49/50\n",
            "10/10 [==============================] - 2s 169ms/step - loss: 0.0078 - accuracy: 1.0000 - val_loss: 1.6144 - val_accuracy: 0.2000\n",
            "Epoch 50/50\n",
            "10/10 [==============================] - 2s 169ms/step - loss: 0.0070 - accuracy: 1.0000 - val_loss: 1.6175 - val_accuracy: 0.2000\n"
          ]
        },
        {
          "output_type": "execute_result",
          "data": {
            "text/plain": [
              "<keras.src.callbacks.History at 0x7800a4793d60>"
            ]
          },
          "metadata": {},
          "execution_count": 19
        }
      ]
    },
    {
      "cell_type": "code",
      "source": [
        "loss, accuracy = model.evaluate(data, labels_one_hot)\n",
        "print(f\"Test Accuracy: {accuracy}\")\n",
        "print(f\"Test Loss: {loss}\")"
      ],
      "metadata": {
        "id": "RN8jwQFK0DOL",
        "colab": {
          "base_uri": "https://localhost:8080/"
        },
        "outputId": "1d2c5f41-6ba7-413a-b7f1-1d48a4b8ffac"
      },
      "execution_count": null,
      "outputs": [
        {
          "output_type": "stream",
          "name": "stdout",
          "text": [
            "13/13 [==============================] - 1s 48ms/step - loss: 1.4182 - accuracy: 0.8400\n",
            "Test Accuracy: 0.8399999737739563\n",
            "Test Loss: 1.4182305335998535\n"
          ]
        }
      ]
    },
    {
      "cell_type": "code",
      "source": [
        "model.save(\"model1.h5\")"
      ],
      "metadata": {
        "id": "yfXiFioEvXDN",
        "colab": {
          "base_uri": "https://localhost:8080/"
        },
        "outputId": "2c0a5b27-edb8-4b37-b843-a64f18e1fbf5"
      },
      "execution_count": null,
      "outputs": [
        {
          "output_type": "stream",
          "name": "stderr",
          "text": [
            "/usr/local/lib/python3.10/dist-packages/keras/src/engine/training.py:3079: UserWarning: You are saving your model as an HDF5 file via `model.save()`. This file format is considered legacy. We recommend using instead the native Keras format, e.g. `model.save('my_model.keras')`.\n",
            "  saving_api.save_model(\n"
          ]
        }
      ]
    },
    {
      "cell_type": "code",
      "source": [
        "import tensorflow as tf\n",
        "\n",
        "tl_model_1 = tf.keras.models.load_model(\"model1.h5\")"
      ],
      "metadata": {
        "id": "ZIeCdbHevk67"
      },
      "execution_count": null,
      "outputs": []
    },
    {
      "cell_type": "code",
      "source": [
        "# tf.keras.utils.plot_model(\n",
        "#     model\n",
        "# )"
      ],
      "metadata": {
        "id": "7bU1eo070cix"
      },
      "execution_count": null,
      "outputs": []
    },
    {
      "cell_type": "code",
      "source": [
        "i = 1\n",
        "for layer in model.layers:\n",
        "  print(f\"layer number :{i} , layer: {layer}\\n\")\n",
        "  i+=1"
      ],
      "metadata": {
        "id": "uhuG7Mvds1DD",
        "colab": {
          "base_uri": "https://localhost:8080/"
        },
        "outputId": "455b71fd-3b5e-4f91-ca8b-6c3622740eb1"
      },
      "execution_count": null,
      "outputs": [
        {
          "output_type": "stream",
          "name": "stdout",
          "text": [
            "layer number :1 , layer: <keras.src.layers.convolutional.conv2d.Conv2D object at 0x7800951893f0>\n",
            "\n",
            "layer number :2 , layer: <keras.src.layers.convolutional.conv2d.Conv2D object at 0x7800950b54b0>\n",
            "\n",
            "layer number :3 , layer: <keras.src.layers.normalization.batch_normalization.BatchNormalization object at 0x7800941fd5a0>\n",
            "\n",
            "layer number :4 , layer: <keras.src.layers.activation.relu.ReLU object at 0x78013854fa30>\n",
            "\n",
            "layer number :5 , layer: <keras.src.layers.convolutional.conv2d.Conv2D object at 0x7800a4790fd0>\n",
            "\n",
            "layer number :6 , layer: <keras.src.layers.normalization.batch_normalization.BatchNormalization object at 0x7800a4920b80>\n",
            "\n",
            "layer number :7 , layer: <keras.src.layers.activation.relu.ReLU object at 0x7800a4790400>\n",
            "\n",
            "layer number :8 , layer: <keras.src.layers.pooling.average_pooling2d.AveragePooling2D object at 0x7800a4921b40>\n",
            "\n",
            "layer number :9 , layer: <keras.src.layers.regularization.dropout.Dropout object at 0x7800a497a230>\n",
            "\n",
            "layer number :10 , layer: <keras.src.layers.convolutional.conv2d.Conv2D object at 0x7800a49bbe50>\n",
            "\n",
            "layer number :11 , layer: <keras.src.layers.normalization.batch_normalization.BatchNormalization object at 0x78012b636020>\n",
            "\n",
            "layer number :12 , layer: <keras.src.layers.activation.relu.ReLU object at 0x7800a49bbee0>\n",
            "\n",
            "layer number :13 , layer: <keras.src.layers.pooling.average_pooling2d.AveragePooling2D object at 0x7800a49202b0>\n",
            "\n",
            "layer number :14 , layer: <keras.src.layers.regularization.dropout.Dropout object at 0x780094765f00>\n",
            "\n",
            "layer number :15 , layer: <keras.src.layers.reshaping.flatten.Flatten object at 0x7800947665c0>\n",
            "\n",
            "layer number :16 , layer: <keras.src.layers.core.dense.Dense object at 0x780094766c80>\n",
            "\n",
            "layer number :17 , layer: <keras.src.layers.activation.softmax.Softmax object at 0x7800947674c0>\n",
            "\n"
          ]
        }
      ]
    },
    {
      "cell_type": "code",
      "source": [
        "for layer in tl_model_1.layers[:2]:\n",
        "  layer.trainable = False\n",
        "\n",
        "for layer in tl_model_1.layers:\n",
        "  print(f\"layer :{layer}\\ttrainable: {layer.trainable}\")"
      ],
      "metadata": {
        "colab": {
          "base_uri": "https://localhost:8080/"
        },
        "id": "tUXeSP9ttGWR",
        "outputId": "bfb241b0-9b74-4f8a-cfbc-fe2cd0c4fa5a"
      },
      "execution_count": null,
      "outputs": [
        {
          "output_type": "stream",
          "name": "stdout",
          "text": [
            "layer :<keras.src.layers.convolutional.conv2d.Conv2D object at 0x7800973b5630>\ttrainable: False\n",
            "layer :<keras.src.layers.convolutional.conv2d.Conv2D object at 0x780097587d60>\ttrainable: False\n",
            "layer :<keras.src.layers.normalization.batch_normalization.BatchNormalization object at 0x7800973b67a0>\ttrainable: True\n",
            "layer :<keras.src.layers.activation.relu.ReLU object at 0x7800973b6aa0>\ttrainable: True\n",
            "layer :<keras.src.layers.convolutional.conv2d.Conv2D object at 0x7800973b7130>\ttrainable: True\n",
            "layer :<keras.src.layers.normalization.batch_normalization.BatchNormalization object at 0x7800973b6b00>\ttrainable: True\n",
            "layer :<keras.src.layers.activation.relu.ReLU object at 0x7800973b6950>\ttrainable: True\n",
            "layer :<keras.src.layers.pooling.average_pooling2d.AveragePooling2D object at 0x7800973e01c0>\ttrainable: True\n",
            "layer :<keras.src.layers.regularization.dropout.Dropout object at 0x7800973e0e50>\ttrainable: True\n",
            "layer :<keras.src.layers.convolutional.conv2d.Conv2D object at 0x7800973e17b0>\ttrainable: True\n",
            "layer :<keras.src.layers.normalization.batch_normalization.BatchNormalization object at 0x7800973e29b0>\ttrainable: True\n",
            "layer :<keras.src.layers.activation.relu.ReLU object at 0x7800973e3e50>\ttrainable: True\n",
            "layer :<keras.src.layers.pooling.average_pooling2d.AveragePooling2D object at 0x7800973e0130>\ttrainable: True\n",
            "layer :<keras.src.layers.regularization.dropout.Dropout object at 0x7800973e3550>\ttrainable: True\n",
            "layer :<keras.src.layers.reshaping.flatten.Flatten object at 0x7800973e1a80>\ttrainable: True\n",
            "layer :<keras.src.layers.core.dense.Dense object at 0x7800973e3460>\ttrainable: True\n",
            "layer :<keras.src.layers.activation.softmax.Softmax object at 0x7800973e1b10>\ttrainable: True\n"
          ]
        }
      ]
    },
    {
      "cell_type": "code",
      "source": [
        "tl_model_1.fit(data, labels_one_hot, epochs=10, batch_size=32, validation_split=0.2)"
      ],
      "metadata": {
        "colab": {
          "base_uri": "https://localhost:8080/"
        },
        "id": "MsKJd9Uat-09",
        "outputId": "c7a6ce3f-2aba-423d-c7f6-a0340485d658"
      },
      "execution_count": null,
      "outputs": [
        {
          "output_type": "stream",
          "name": "stdout",
          "text": [
            "Epoch 1/10\n",
            "10/10 [==============================] - 3s 194ms/step - loss: 0.0068 - accuracy: 1.0000 - val_loss: 1.6212 - val_accuracy: 0.2250\n",
            "Epoch 2/10\n",
            "10/10 [==============================] - 2s 171ms/step - loss: 0.0055 - accuracy: 1.0000 - val_loss: 1.6264 - val_accuracy: 0.1875\n",
            "Epoch 3/10\n",
            "10/10 [==============================] - 2s 171ms/step - loss: 0.0062 - accuracy: 1.0000 - val_loss: 1.6276 - val_accuracy: 0.1750\n",
            "Epoch 4/10\n",
            "10/10 [==============================] - 2s 249ms/step - loss: 0.0064 - accuracy: 1.0000 - val_loss: 1.6315 - val_accuracy: 0.1750\n",
            "Epoch 5/10\n",
            "10/10 [==============================] - 2s 223ms/step - loss: 0.0053 - accuracy: 1.0000 - val_loss: 1.6325 - val_accuracy: 0.1750\n",
            "Epoch 6/10\n",
            "10/10 [==============================] - 2s 169ms/step - loss: 0.0049 - accuracy: 1.0000 - val_loss: 1.6370 - val_accuracy: 0.1750\n",
            "Epoch 7/10\n",
            "10/10 [==============================] - 2s 172ms/step - loss: 0.0047 - accuracy: 1.0000 - val_loss: 1.6493 - val_accuracy: 0.1750\n",
            "Epoch 8/10\n",
            "10/10 [==============================] - 2s 170ms/step - loss: 0.0045 - accuracy: 1.0000 - val_loss: 1.6597 - val_accuracy: 0.1750\n",
            "Epoch 9/10\n",
            "10/10 [==============================] - 2s 171ms/step - loss: 0.0050 - accuracy: 1.0000 - val_loss: 1.6547 - val_accuracy: 0.1750\n",
            "Epoch 10/10\n",
            "10/10 [==============================] - 2s 174ms/step - loss: 0.0051 - accuracy: 1.0000 - val_loss: 1.6951 - val_accuracy: 0.1750\n"
          ]
        },
        {
          "output_type": "execute_result",
          "data": {
            "text/plain": [
              "<keras.src.callbacks.History at 0x7800975860b0>"
            ]
          },
          "metadata": {},
          "execution_count": 26
        }
      ]
    },
    {
      "cell_type": "code",
      "source": [
        "loss, accuracy = tl_model_1.evaluate(data, labels_one_hot)\n",
        "print(f\"Test Accuracy: {accuracy}\")\n",
        "print(f\"Test Loss: {loss}\")"
      ],
      "metadata": {
        "colab": {
          "base_uri": "https://localhost:8080/"
        },
        "id": "h__fLqQ1I5DA",
        "outputId": "f7f7ca12-9158-4809-f37f-d66620343c9c"
      },
      "execution_count": null,
      "outputs": [
        {
          "output_type": "stream",
          "name": "stdout",
          "text": [
            "13/13 [==============================] - 1s 57ms/step - loss: 0.7490 - accuracy: 0.8350\n",
            "Test Accuracy: 0.8349999785423279\n",
            "Test Loss: 0.7490363121032715\n"
          ]
        }
      ]
    },
    {
      "cell_type": "code",
      "source": [
        "tl_model_2 = tf.keras.models.load_model(\"model1.h5\")\n",
        "tl_model_2.layers[4].trainable = False\n",
        "tl_model_2.layers[9].trainable = False\n",
        "\n",
        "for layer in tl_model_2.layers:\n",
        "  print(f\"layer :{layer}\\ttrainable: {layer.trainable}\")"
      ],
      "metadata": {
        "colab": {
          "base_uri": "https://localhost:8080/"
        },
        "id": "-rRnsA4awqls",
        "outputId": "a685de52-9263-42d4-fffa-8d1a5294d217"
      },
      "execution_count": null,
      "outputs": [
        {
          "output_type": "stream",
          "name": "stdout",
          "text": [
            "layer :<keras.src.layers.convolutional.conv2d.Conv2D object at 0x780094470130>\ttrainable: True\n",
            "layer :<keras.src.layers.convolutional.conv2d.Conv2D object at 0x780097393700>\ttrainable: True\n",
            "layer :<keras.src.layers.normalization.batch_normalization.BatchNormalization object at 0x7800973b61d0>\ttrainable: True\n",
            "layer :<keras.src.layers.activation.relu.ReLU object at 0x780094472e90>\ttrainable: True\n",
            "layer :<keras.src.layers.convolutional.conv2d.Conv2D object at 0x780094471c30>\ttrainable: False\n",
            "layer :<keras.src.layers.normalization.batch_normalization.BatchNormalization object at 0x780094472e00>\ttrainable: True\n",
            "layer :<keras.src.layers.activation.relu.ReLU object at 0x780094473b20>\ttrainable: True\n",
            "layer :<keras.src.layers.pooling.average_pooling2d.AveragePooling2D object at 0x780094470700>\ttrainable: True\n",
            "layer :<keras.src.layers.regularization.dropout.Dropout object at 0x780094473cd0>\ttrainable: True\n",
            "layer :<keras.src.layers.convolutional.conv2d.Conv2D object at 0x780094470cd0>\ttrainable: False\n",
            "layer :<keras.src.layers.normalization.batch_normalization.BatchNormalization object at 0x7800973b7e50>\ttrainable: True\n",
            "layer :<keras.src.layers.activation.relu.ReLU object at 0x7800973fce50>\ttrainable: True\n",
            "layer :<keras.src.layers.pooling.average_pooling2d.AveragePooling2D object at 0x7800944708e0>\ttrainable: True\n",
            "layer :<keras.src.layers.regularization.dropout.Dropout object at 0x780094471540>\ttrainable: True\n",
            "layer :<keras.src.layers.reshaping.flatten.Flatten object at 0x780097391c30>\ttrainable: True\n",
            "layer :<keras.src.layers.core.dense.Dense object at 0x780094473310>\ttrainable: True\n",
            "layer :<keras.src.layers.activation.softmax.Softmax object at 0x780097390eb0>\ttrainable: True\n"
          ]
        }
      ]
    },
    {
      "cell_type": "code",
      "source": [
        "tl_model_2.fit(data, labels_one_hot, epochs=10, batch_size=32, validation_split=0.2)"
      ],
      "metadata": {
        "id": "dyGjODKwwpdg",
        "colab": {
          "base_uri": "https://localhost:8080/"
        },
        "outputId": "a0ced889-2fbb-458e-c7f8-f33ee573692d"
      },
      "execution_count": null,
      "outputs": [
        {
          "output_type": "stream",
          "name": "stdout",
          "text": [
            "Epoch 1/10\n",
            "10/10 [==============================] - 3s 232ms/step - loss: 0.0063 - accuracy: 1.0000 - val_loss: 1.6218 - val_accuracy: 0.1625\n",
            "Epoch 2/10\n",
            "10/10 [==============================] - 2s 202ms/step - loss: 0.0057 - accuracy: 1.0000 - val_loss: 1.6256 - val_accuracy: 0.1625\n",
            "Epoch 3/10\n",
            "10/10 [==============================] - 2s 170ms/step - loss: 0.0047 - accuracy: 1.0000 - val_loss: 1.6305 - val_accuracy: 0.1625\n",
            "Epoch 4/10\n",
            "10/10 [==============================] - 2s 175ms/step - loss: 0.0051 - accuracy: 1.0000 - val_loss: 1.6407 - val_accuracy: 0.1875\n",
            "Epoch 5/10\n",
            "10/10 [==============================] - 3s 285ms/step - loss: 0.0055 - accuracy: 1.0000 - val_loss: 1.6514 - val_accuracy: 0.1500\n",
            "Epoch 6/10\n",
            "10/10 [==============================] - 2s 200ms/step - loss: 0.0042 - accuracy: 1.0000 - val_loss: 1.6598 - val_accuracy: 0.1625\n",
            "Epoch 7/10\n",
            "10/10 [==============================] - 2s 173ms/step - loss: 0.0041 - accuracy: 1.0000 - val_loss: 1.6681 - val_accuracy: 0.2000\n",
            "Epoch 8/10\n",
            "10/10 [==============================] - 2s 172ms/step - loss: 0.0044 - accuracy: 1.0000 - val_loss: 1.6818 - val_accuracy: 0.1875\n",
            "Epoch 9/10\n",
            "10/10 [==============================] - 2s 174ms/step - loss: 0.0041 - accuracy: 1.0000 - val_loss: 1.7053 - val_accuracy: 0.2000\n",
            "Epoch 10/10\n",
            "10/10 [==============================] - 2s 178ms/step - loss: 0.0037 - accuracy: 1.0000 - val_loss: 1.7164 - val_accuracy: 0.2000\n"
          ]
        },
        {
          "output_type": "execute_result",
          "data": {
            "text/plain": [
              "<keras.src.callbacks.History at 0x7800a4a99b10>"
            ]
          },
          "metadata": {},
          "execution_count": 13
        }
      ]
    },
    {
      "cell_type": "code",
      "source": [
        "loss, accuracy = tl_model_2.evaluate(data, labels_one_hot)\n",
        "print(f\"Test Accuracy: {accuracy}\")\n",
        "print(f\"Test Loss: {loss}\")"
      ],
      "metadata": {
        "colab": {
          "base_uri": "https://localhost:8080/"
        },
        "id": "vvamvnR3I_3R",
        "outputId": "0c22a21c-5af4-4fb6-a2fb-433aee3791a9"
      },
      "execution_count": null,
      "outputs": [
        {
          "output_type": "stream",
          "name": "stdout",
          "text": [
            "13/13 [==============================] - 1s 87ms/step - loss: 1.4182 - accuracy: 0.8400\n",
            "Test Accuracy: 0.8399999737739563\n",
            "Test Loss: 1.4182305335998535\n"
          ]
        }
      ]
    },
    {
      "cell_type": "code",
      "source": [
        "tl_model_3 = tf.keras.models.load_model(\"model1.h5\")\n",
        "tl_model_3.fit(data, labels_one_hot, epochs=10, batch_size=32, validation_split=0.2)"
      ],
      "metadata": {
        "id": "NsEFh-qTxQA4",
        "colab": {
          "base_uri": "https://localhost:8080/"
        },
        "outputId": "6cbddf6f-3a22-4c82-baf0-8d2dda448e9b"
      },
      "execution_count": null,
      "outputs": [
        {
          "output_type": "stream",
          "name": "stdout",
          "text": [
            "Epoch 1/10\n",
            "10/10 [==============================] - 4s 295ms/step - loss: 0.0052 - accuracy: 1.0000 - val_loss: 1.6240 - val_accuracy: 0.1625\n",
            "Epoch 2/10\n",
            "10/10 [==============================] - 2s 175ms/step - loss: 0.0051 - accuracy: 1.0000 - val_loss: 1.6254 - val_accuracy: 0.2000\n",
            "Epoch 3/10\n",
            "10/10 [==============================] - 2s 179ms/step - loss: 0.0053 - accuracy: 1.0000 - val_loss: 1.6330 - val_accuracy: 0.1500\n",
            "Epoch 4/10\n",
            "10/10 [==============================] - 2s 180ms/step - loss: 0.0051 - accuracy: 1.0000 - val_loss: 1.6389 - val_accuracy: 0.1500\n",
            "Epoch 5/10\n",
            "10/10 [==============================] - 2s 209ms/step - loss: 0.0052 - accuracy: 1.0000 - val_loss: 1.6479 - val_accuracy: 0.1875\n",
            "Epoch 6/10\n",
            "10/10 [==============================] - 2s 179ms/step - loss: 0.0046 - accuracy: 1.0000 - val_loss: 1.6648 - val_accuracy: 0.1750\n",
            "Epoch 7/10\n",
            "10/10 [==============================] - 3s 310ms/step - loss: 0.0041 - accuracy: 1.0000 - val_loss: 1.6717 - val_accuracy: 0.1750\n",
            "Epoch 8/10\n",
            "10/10 [==============================] - 2s 179ms/step - loss: 0.0043 - accuracy: 1.0000 - val_loss: 1.6809 - val_accuracy: 0.1625\n",
            "Epoch 9/10\n",
            "10/10 [==============================] - 2s 181ms/step - loss: 0.0038 - accuracy: 1.0000 - val_loss: 1.7020 - val_accuracy: 0.1500\n",
            "Epoch 10/10\n",
            "10/10 [==============================] - 2s 210ms/step - loss: 0.0043 - accuracy: 1.0000 - val_loss: 1.7183 - val_accuracy: 0.1875\n"
          ]
        },
        {
          "output_type": "execute_result",
          "data": {
            "text/plain": [
              "<keras.src.callbacks.History at 0x7800950b58a0>"
            ]
          },
          "metadata": {},
          "execution_count": 14
        }
      ]
    },
    {
      "cell_type": "code",
      "source": [
        "loss, accuracy = tl_model_3.evaluate(data, labels_one_hot)\n",
        "print(f\"Test Accuracy: {accuracy}\")\n",
        "print(f\"Test Loss: {loss}\")"
      ],
      "metadata": {
        "colab": {
          "base_uri": "https://localhost:8080/"
        },
        "id": "H16gcrIyJGKM",
        "outputId": "f263ccb3-6469-498f-e249-aa84c2e93e55"
      },
      "execution_count": null,
      "outputs": [
        {
          "output_type": "stream",
          "name": "stdout",
          "text": [
            "13/13 [==============================] - 1s 67ms/step - loss: 1.7039 - accuracy: 0.2100\n",
            "Test Accuracy: 0.20999999344348907\n",
            "Test Loss: 1.7038781642913818\n"
          ]
        }
      ]
    }
  ]
}